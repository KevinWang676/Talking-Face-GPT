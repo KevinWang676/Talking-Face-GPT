{
  "cells": [
    {
      "cell_type": "markdown",
      "metadata": {
        "id": "view-in-github",
        "colab_type": "text"
      },
      "source": [
        "<a href=\"https://colab.research.google.com/github/KevinWang676/Talking-Face-GPT/blob/main/%E9%9A%8F%E5%8F%AB%E9%9A%8F%E5%88%B0%E7%9A%84AI%E5%8A%A9%E6%89%8B(%E8%A7%86%E9%A2%91%E7%89%88).ipynb\" target=\"_parent\"><img src=\"https://colab.research.google.com/assets/colab-badge.svg\" alt=\"Open In Colab\"/></a>"
      ]
    },
    {
      "cell_type": "code",
      "execution_count": 1,
      "metadata": {
        "colab": {
          "base_uri": "https://localhost:8080/"
        },
        "id": "ZsJUxc0aRsAf",
        "outputId": "3c941fe4-095b-4634-a7c9-ef4c63ab1096"
      },
      "outputs": [
        {
          "output_type": "stream",
          "name": "stdout",
          "text": [
            "  Installing build dependencies ... \u001b[?25l\u001b[?25hdone\n",
            "  Getting requirements to build wheel ... \u001b[?25l\u001b[?25hdone\n",
            "  Preparing metadata (pyproject.toml) ... \u001b[?25l\u001b[?25hdone\n",
            "\u001b[2K     \u001b[90m━━━━━━━━━━━━━━━━━━━━━━━━━━━━━━━━━━━━━━━━\u001b[0m \u001b[32m1.7/1.7 MB\u001b[0m \u001b[31m36.6 MB/s\u001b[0m eta \u001b[36m0:00:00\u001b[0m\n",
            "\u001b[2K     \u001b[90m━━━━━━━━━━━━━━━━━━━━━━━━━━━━━━━━━━━━━━━━\u001b[0m \u001b[32m63.3/63.3 MB\u001b[0m \u001b[31m12.3 MB/s\u001b[0m eta \u001b[36m0:00:00\u001b[0m\n",
            "\u001b[2K     \u001b[90m━━━━━━━━━━━━━━━━━━━━━━━━━━━━━━━━━━━━━━\u001b[0m \u001b[32m132.3/132.3 KB\u001b[0m \u001b[31m16.5 MB/s\u001b[0m eta \u001b[36m0:00:00\u001b[0m\n",
            "\u001b[?25h  Preparing metadata (setup.py) ... \u001b[?25l\u001b[?25hdone\n",
            "  Building wheel for openai-whisper (pyproject.toml) ... \u001b[?25l\u001b[?25hdone\n",
            "  Building wheel for lit (setup.py) ... \u001b[?25l\u001b[?25hdone\n"
          ]
        }
      ],
      "source": [
        "! pip install git+https://github.com/openai/whisper.git -q"
      ]
    },
    {
      "cell_type": "code",
      "execution_count": 2,
      "metadata": {
        "colab": {
          "base_uri": "https://localhost:8080/"
        },
        "id": "g5HRm6x3jlfV",
        "outputId": "10a13173-0b78-4c12-e297-d42e29975fa4"
      },
      "outputs": [
        {
          "output_type": "stream",
          "name": "stdout",
          "text": [
            "Looking in indexes: https://pypi.org/simple, https://us-python.pkg.dev/colab-wheels/public/simple/\n",
            "Collecting openai\n",
            "  Downloading openai-0.27.2-py3-none-any.whl (70 kB)\n",
            "\u001b[2K     \u001b[90m━━━━━━━━━━━━━━━━━━━━━━━━━━━━━━━━━━━━━━━━\u001b[0m \u001b[32m70.1/70.1 KB\u001b[0m \u001b[31m4.1 MB/s\u001b[0m eta \u001b[36m0:00:00\u001b[0m\n",
            "\u001b[?25hRequirement already satisfied: tqdm in /usr/local/lib/python3.9/dist-packages (from openai) (4.65.0)\n",
            "Collecting aiohttp\n",
            "  Downloading aiohttp-3.8.4-cp39-cp39-manylinux_2_17_x86_64.manylinux2014_x86_64.whl (1.0 MB)\n",
            "\u001b[2K     \u001b[90m━━━━━━━━━━━━━━━━━━━━━━━━━━━━━━━━━━━━━━━━\u001b[0m \u001b[32m1.0/1.0 MB\u001b[0m \u001b[31m25.5 MB/s\u001b[0m eta \u001b[36m0:00:00\u001b[0m\n",
            "\u001b[?25hRequirement already satisfied: requests>=2.20 in /usr/local/lib/python3.9/dist-packages (from openai) (2.27.1)\n",
            "Requirement already satisfied: urllib3<1.27,>=1.21.1 in /usr/local/lib/python3.9/dist-packages (from requests>=2.20->openai) (1.26.15)\n",
            "Requirement already satisfied: idna<4,>=2.5 in /usr/local/lib/python3.9/dist-packages (from requests>=2.20->openai) (3.4)\n",
            "Requirement already satisfied: charset-normalizer~=2.0.0 in /usr/local/lib/python3.9/dist-packages (from requests>=2.20->openai) (2.0.12)\n",
            "Requirement already satisfied: certifi>=2017.4.17 in /usr/local/lib/python3.9/dist-packages (from requests>=2.20->openai) (2022.12.7)\n",
            "Collecting frozenlist>=1.1.1\n",
            "  Downloading frozenlist-1.3.3-cp39-cp39-manylinux_2_5_x86_64.manylinux1_x86_64.manylinux_2_17_x86_64.manylinux2014_x86_64.whl (158 kB)\n",
            "\u001b[2K     \u001b[90m━━━━━━━━━━━━━━━━━━━━━━━━━━━━━━━━━━━━━━\u001b[0m \u001b[32m158.8/158.8 KB\u001b[0m \u001b[31m18.6 MB/s\u001b[0m eta \u001b[36m0:00:00\u001b[0m\n",
            "\u001b[?25hCollecting multidict<7.0,>=4.5\n",
            "  Downloading multidict-6.0.4-cp39-cp39-manylinux_2_17_x86_64.manylinux2014_x86_64.whl (114 kB)\n",
            "\u001b[2K     \u001b[90m━━━━━━━━━━━━━━━━━━━━━━━━━━━━━━━━━━━━━\u001b[0m \u001b[32m114.2/114.2 KB\u001b[0m \u001b[31m487.0 kB/s\u001b[0m eta \u001b[36m0:00:00\u001b[0m\n",
            "\u001b[?25hCollecting yarl<2.0,>=1.0\n",
            "  Downloading yarl-1.8.2-cp39-cp39-manylinux_2_17_x86_64.manylinux2014_x86_64.whl (264 kB)\n",
            "\u001b[2K     \u001b[90m━━━━━━━━━━━━━━━━━━━━━━━━━━━━━━━━━━━━━━\u001b[0m \u001b[32m264.6/264.6 KB\u001b[0m \u001b[31m25.3 MB/s\u001b[0m eta \u001b[36m0:00:00\u001b[0m\n",
            "\u001b[?25hCollecting aiosignal>=1.1.2\n",
            "  Downloading aiosignal-1.3.1-py3-none-any.whl (7.6 kB)\n",
            "Requirement already satisfied: attrs>=17.3.0 in /usr/local/lib/python3.9/dist-packages (from aiohttp->openai) (22.2.0)\n",
            "Collecting async-timeout<5.0,>=4.0.0a3\n",
            "  Downloading async_timeout-4.0.2-py3-none-any.whl (5.8 kB)\n",
            "Installing collected packages: multidict, frozenlist, async-timeout, yarl, aiosignal, aiohttp, openai\n",
            "Successfully installed aiohttp-3.8.4 aiosignal-1.3.1 async-timeout-4.0.2 frozenlist-1.3.3 multidict-6.0.4 openai-0.27.2 yarl-1.8.2\n"
          ]
        }
      ],
      "source": [
        "pip install openai"
      ]
    },
    {
      "cell_type": "code",
      "execution_count": 3,
      "metadata": {
        "colab": {
          "base_uri": "https://localhost:8080/"
        },
        "id": "Kr5faKybKi4p",
        "outputId": "40361197-7ae1-47a4-dfba-7af76707e0b2"
      },
      "outputs": [
        {
          "output_type": "stream",
          "name": "stderr",
          "text": [
            "100%|███████████████████████████████████████| 139M/139M [00:02<00:00, 58.1MiB/s]\n"
          ]
        }
      ],
      "source": [
        "import whisper\n",
        "\n",
        "model = whisper.load_model(\"base\")\n"
      ]
    },
    {
      "cell_type": "code",
      "execution_count": 4,
      "metadata": {
        "id": "fjM27tWsI4dH"
      },
      "outputs": [],
      "source": [
        "#! pip install gradio -q"
      ]
    },
    {
      "cell_type": "code",
      "source": [
        "!git lfs install\n",
        "%cd /content\n",
        "!git clone https://huggingface.co/camenduru/pocketsphinx-20.04-t4 pocketsphinx\n",
        "%cd  /content/pocketsphinx\n",
        "!sudo cmake --build build --target install\n",
        "%cd /content\n",
        "!git clone https://huggingface.co/camenduru/one-shot-talking-face-20.04-t4 one-shot-talking-face\n",
        "%cd /content/one-shot-talking-face\n",
        "!pip install -r /content/one-shot-talking-face/requirements.txt\n",
        "!chmod 755 /content/one-shot-talking-face/OpenFace/FeatureExtraction\n",
        "!mkdir /content/train\n",
        "!apt install -qq libgtk2.0-0 jq -y\n",
        "!pip install -q imageio-ffmpeg gradio"
      ],
      "metadata": {
        "colab": {
          "base_uri": "https://localhost:8080/"
        },
        "id": "Ry19xur5blza",
        "outputId": "2d3ced4d-3762-4e73-9a60-f9031299e898"
      },
      "execution_count": 5,
      "outputs": [
        {
          "output_type": "stream",
          "name": "stdout",
          "text": [
            "Error: Failed to call git rev-parse --git-dir: exit status 128 \n",
            "Git LFS initialized.\n",
            "/content\n",
            "Cloning into 'pocketsphinx'...\n",
            "remote: Enumerating objects: 1658, done.\u001b[K\n",
            "remote: Total 1658 (delta 0), reused 0 (delta 0), pack-reused 1658\u001b[K\n",
            "Receiving objects: 100% (1658/1658), 8.51 MiB | 17.19 MiB/s, done.\n",
            "Resolving deltas: 100% (592/592), done.\n",
            "Filtering content: 100% (20/20), 34.59 MiB | 14.45 MiB/s, done.\n",
            "/content/pocketsphinx\n",
            "-- SIZEOF_LONG=\"8\" ; SIZEOF_LONG_LONG=\"8\"\n",
            "-- WORDS_BIGENDIAN=\"0\"\n",
            "-- SPHINX_DEBUG=\"\" ; DEBUG_ENDIAN=\"\"\n",
            "-- FIXED_POINT=\"OFF\" ; DEFAULT_RADIX=\"12\"\n",
            "-- Could NOT find Doxygen (missing: DOXYGEN_EXECUTABLE) \n",
            "-- Checking for module 'libpulse-simple'\n",
            "--   No package 'libpulse-simple' found\n",
            "-- Checking for module 'portaudio-2.0'\n",
            "--   No package 'portaudio-2.0' found\n",
            "-- MODELDIR=\"/usr/local/share/pocketsphinx/model\"\n",
            "-- Configuring done\n",
            "-- Generating done\n",
            "-- Build files have been written to: /content/pocketsphinx/build\n",
            "\u001b[35m\u001b[1mScanning dependencies of target pocketsphinx\u001b[0m\n",
            "[  0%] \u001b[32mBuilding C object src/CMakeFiles/pocketsphinx.dir/acmod.c.o\u001b[0m\n",
            "[  0%] \u001b[32mBuilding C object src/CMakeFiles/pocketsphinx.dir/allphone_search.c.o\u001b[0m\n",
            "[  2%] \u001b[32mBuilding C object src/CMakeFiles/pocketsphinx.dir/bin_mdef.c.o\u001b[0m\n",
            "[  2%] \u001b[32mBuilding C object src/CMakeFiles/pocketsphinx.dir/common_audio/vad/vad_gmm.c.o\u001b[0m\n",
            "[  4%] \u001b[32mBuilding C object src/CMakeFiles/pocketsphinx.dir/common_audio/vad/webrtc_vad.c.o\u001b[0m\n",
            "[  4%] \u001b[32mBuilding C object src/CMakeFiles/pocketsphinx.dir/common_audio/vad/vad_filterbank.c.o\u001b[0m\n",
            "[  4%] \u001b[32mBuilding C object src/CMakeFiles/pocketsphinx.dir/common_audio/vad/vad_core.c.o\u001b[0m\n",
            "[  6%] \u001b[32mBuilding C object src/CMakeFiles/pocketsphinx.dir/common_audio/vad/vad_sp.c.o\u001b[0m\n",
            "[  6%] \u001b[32mBuilding C object src/CMakeFiles/pocketsphinx.dir/common_audio/signal_processing/division_operations.c.o\u001b[0m\n",
            "[  6%] \u001b[32mBuilding C object src/CMakeFiles/pocketsphinx.dir/common_audio/signal_processing/resample_48khz.c.o\u001b[0m\n",
            "[  9%] \u001b[32mBuilding C object src/CMakeFiles/pocketsphinx.dir/common_audio/signal_processing/resample.c.o\u001b[0m\n",
            "[  9%] \u001b[32mBuilding C object src/CMakeFiles/pocketsphinx.dir/common_audio/signal_processing/resample_fractional.c.o\u001b[0m\n",
            "[ 11%] \u001b[32mBuilding C object src/CMakeFiles/pocketsphinx.dir/common_audio/signal_processing/downsample_fast.c.o\u001b[0m\n",
            "[ 11%] \u001b[32mBuilding C object src/CMakeFiles/pocketsphinx.dir/common_audio/signal_processing/min_max_operations.c.o\u001b[0m\n",
            "[ 11%] \u001b[32mBuilding C object src/CMakeFiles/pocketsphinx.dir/common_audio/signal_processing/cross_correlation.c.o\u001b[0m\n",
            "[ 13%] \u001b[32mBuilding C object src/CMakeFiles/pocketsphinx.dir/common_audio/signal_processing/vector_scaling_operations.c.o\u001b[0m\n",
            "[ 13%] \u001b[32mBuilding C object src/CMakeFiles/pocketsphinx.dir/common_audio/signal_processing/resample_by_2_internal.c.o\u001b[0m\n",
            "[ 15%] \u001b[32mBuilding C object src/CMakeFiles/pocketsphinx.dir/common_audio/signal_processing/energy.c.o\u001b[0m\n",
            "[ 15%] \u001b[32mBuilding C object src/CMakeFiles/pocketsphinx.dir/common_audio/signal_processing/spl_inl.c.o\u001b[0m\n",
            "[ 15%] \u001b[32mBuilding C object src/CMakeFiles/pocketsphinx.dir/common_audio/signal_processing/get_scaling_square.c.o\u001b[0m\n",
            "[ 18%] \u001b[32mBuilding C object src/CMakeFiles/pocketsphinx.dir/dict2pid.c.o\u001b[0m\n",
            "[ 18%] \u001b[32mBuilding C object src/CMakeFiles/pocketsphinx.dir/dict.c.o\u001b[0m\n",
            "[ 18%] \u001b[32mBuilding C object src/CMakeFiles/pocketsphinx.dir/fe/fe_sigproc.c.o\u001b[0m\n",
            "[ 20%] \u001b[32mBuilding C object src/CMakeFiles/pocketsphinx.dir/fe/fixlog.c.o\u001b[0m\n",
            "[ 20%] \u001b[32mBuilding C object src/CMakeFiles/pocketsphinx.dir/fe/fe_warp_inverse_linear.c.o\u001b[0m\n",
            "[ 22%] \u001b[32mBuilding C object src/CMakeFiles/pocketsphinx.dir/fe/fe_noise.c.o\u001b[0m\n",
            "[ 22%] \u001b[32mBuilding C object src/CMakeFiles/pocketsphinx.dir/fe/fe_warp.c.o\u001b[0m\n",
            "[ 22%] \u001b[32mBuilding C object src/CMakeFiles/pocketsphinx.dir/fe/fe_interface.c.o\u001b[0m\n",
            "[ 25%] \u001b[32mBuilding C object src/CMakeFiles/pocketsphinx.dir/fe/fe_warp_affine.c.o\u001b[0m\n",
            "[ 25%] \u001b[32mBuilding C object src/CMakeFiles/pocketsphinx.dir/fe/yin.c.o\u001b[0m\n",
            "[ 27%] \u001b[32mBuilding C object src/CMakeFiles/pocketsphinx.dir/fe/fe_warp_piecewise_linear.c.o\u001b[0m\n",
            "[ 27%] \u001b[32mBuilding C object src/CMakeFiles/pocketsphinx.dir/feat/cmn.c.o\u001b[0m\n",
            "[ 27%] \u001b[32mBuilding C object src/CMakeFiles/pocketsphinx.dir/feat/agc.c.o\u001b[0m\n",
            "[ 29%] \u001b[32mBuilding C object src/CMakeFiles/pocketsphinx.dir/feat/cmn_live.c.o\u001b[0m\n",
            "[ 29%] \u001b[32mBuilding C object src/CMakeFiles/pocketsphinx.dir/feat/feat.c.o\u001b[0m\n",
            "[ 29%] \u001b[32mBuilding C object src/CMakeFiles/pocketsphinx.dir/feat/lda.c.o\u001b[0m\n",
            "[ 31%] \u001b[32mBuilding C object src/CMakeFiles/pocketsphinx.dir/fsg_history.c.o\u001b[0m\n",
            "[ 31%] \u001b[32mBuilding C object src/CMakeFiles/pocketsphinx.dir/fsg_lextree.c.o\u001b[0m\n",
            "[ 34%] \u001b[32mBuilding C object src/CMakeFiles/pocketsphinx.dir/fsg_search.c.o\u001b[0m\n",
            "[ 34%] \u001b[32mBuilding C object src/CMakeFiles/pocketsphinx.dir/hmm.c.o\u001b[0m\n",
            "[ 34%] \u001b[32mBuilding C object src/CMakeFiles/pocketsphinx.dir/kws_detections.c.o\u001b[0m\n",
            "[ 36%] \u001b[32mBuilding C object src/CMakeFiles/pocketsphinx.dir/kws_search.c.o\u001b[0m\n",
            "[ 36%] \u001b[32mBuilding C object src/CMakeFiles/pocketsphinx.dir/lm/lm_trie_quant.c.o\u001b[0m\n",
            "[ 38%] \u001b[32mBuilding C object src/CMakeFiles/pocketsphinx.dir/lm/ngram_model_trie.c.o\u001b[0m\n",
            "[ 38%] \u001b[32mBuilding C object src/CMakeFiles/pocketsphinx.dir/lm/fsg_model.c.o\u001b[0m\n",
            "[ 38%] \u001b[32mBuilding C object src/CMakeFiles/pocketsphinx.dir/lm/jsgf.c.o\u001b[0m\n",
            "[ 40%] \u001b[32mBuilding C object src/CMakeFiles/pocketsphinx.dir/lm/ngram_model_set.c.o\u001b[0m\n",
            "[ 40%] \u001b[32mBuilding C object src/CMakeFiles/pocketsphinx.dir/lm/ngrams_raw.c.o\u001b[0m\n",
            "[ 43%] \u001b[32mBuilding C object src/CMakeFiles/pocketsphinx.dir/lm/jsgf_scanner.c.o\u001b[0m\n",
            "[ 43%] \u001b[32mBuilding C object src/CMakeFiles/pocketsphinx.dir/lm/bitarr.c.o\u001b[0m\n",
            "[ 43%] \u001b[32mBuilding C object src/CMakeFiles/pocketsphinx.dir/lm/ngram_model.c.o\u001b[0m\n",
            "[ 45%] \u001b[32mBuilding C object src/CMakeFiles/pocketsphinx.dir/lm/lm_trie.c.o\u001b[0m\n",
            "[ 45%] \u001b[32mBuilding C object src/CMakeFiles/pocketsphinx.dir/lm/jsgf_parser.c.o\u001b[0m\n",
            "[ 45%] \u001b[32mBuilding C object src/CMakeFiles/pocketsphinx.dir/mdef.c.o\u001b[0m\n",
            "[ 47%] \u001b[32mBuilding C object src/CMakeFiles/pocketsphinx.dir/ms_gauden.c.o\u001b[0m\n",
            "[ 47%] \u001b[32mBuilding C object src/CMakeFiles/pocketsphinx.dir/ms_mgau.c.o\u001b[0m\n",
            "[ 50%] \u001b[32mBuilding C object src/CMakeFiles/pocketsphinx.dir/ms_senone.c.o\u001b[0m\n",
            "[ 50%] \u001b[32mBuilding C object src/CMakeFiles/pocketsphinx.dir/ngram_search.c.o\u001b[0m\n",
            "[ 50%] \u001b[32mBuilding C object src/CMakeFiles/pocketsphinx.dir/ngram_search_fwdflat.c.o\u001b[0m\n",
            "[ 52%] \u001b[32mBuilding C object src/CMakeFiles/pocketsphinx.dir/ngram_search_fwdtree.c.o\u001b[0m\n",
            "[ 52%] \u001b[32mBuilding C object src/CMakeFiles/pocketsphinx.dir/phone_loop_search.c.o\u001b[0m\n",
            "[ 54%] \u001b[32mBuilding C object src/CMakeFiles/pocketsphinx.dir/pocketsphinx.c.o\u001b[0m\n",
            "[ 54%] \u001b[32mBuilding C object src/CMakeFiles/pocketsphinx.dir/ps_alignment.c.o\u001b[0m\n",
            "[ 54%] \u001b[32mBuilding C object src/CMakeFiles/pocketsphinx.dir/ps_config.c.o\u001b[0m\n",
            "[ 56%] \u001b[32mBuilding C object src/CMakeFiles/pocketsphinx.dir/ps_endpointer.c.o\u001b[0m\n",
            "[ 56%] \u001b[32mBuilding C object src/CMakeFiles/pocketsphinx.dir/ps_lattice.c.o\u001b[0m\n",
            "[ 56%] \u001b[32mBuilding C object src/CMakeFiles/pocketsphinx.dir/ps_mllr.c.o\u001b[0m\n",
            "[ 59%] \u001b[32mBuilding C object src/CMakeFiles/pocketsphinx.dir/ps_vad.c.o\u001b[0m\n",
            "[ 59%] \u001b[32mBuilding C object src/CMakeFiles/pocketsphinx.dir/ptm_mgau.c.o\u001b[0m\n",
            "[ 61%] \u001b[32mBuilding C object src/CMakeFiles/pocketsphinx.dir/s2_semi_mgau.c.o\u001b[0m\n",
            "[ 61%] \u001b[32mBuilding C object src/CMakeFiles/pocketsphinx.dir/state_align_search.c.o\u001b[0m\n",
            "[ 61%] \u001b[32mBuilding C object src/CMakeFiles/pocketsphinx.dir/tmat.c.o\u001b[0m\n",
            "[ 63%] \u001b[32mBuilding C object src/CMakeFiles/pocketsphinx.dir/util/strfuncs.c.o\u001b[0m\n",
            "[ 63%] \u001b[32mBuilding C object src/CMakeFiles/pocketsphinx.dir/util/dtoa.c.o\u001b[0m\n",
            "[ 65%] \u001b[32mBuilding C object src/CMakeFiles/pocketsphinx.dir/util/case.c.o\u001b[0m\n",
            "[ 65%] \u001b[32mBuilding C object src/CMakeFiles/pocketsphinx.dir/util/filename.c.o\u001b[0m\n",
            "[ 65%] \u001b[32mBuilding C object src/CMakeFiles/pocketsphinx.dir/util/slamch.c.o\u001b[0m\n",
            "[ 68%] \u001b[32mBuilding C object src/CMakeFiles/pocketsphinx.dir/util/cmd_ln.c.o\u001b[0m\n",
            "[ 68%] \u001b[32mBuilding C object src/CMakeFiles/pocketsphinx.dir/util/blas_lite.c.o\u001b[0m\n",
            "[ 68%] \u001b[32mBuilding C object src/CMakeFiles/pocketsphinx.dir/util/blkarray_list.c.o\u001b[0m\n",
            "[ 70%] \u001b[32mBuilding C object src/CMakeFiles/pocketsphinx.dir/util/vector.c.o\u001b[0m\n",
            "[ 70%] \u001b[32mBuilding C object src/CMakeFiles/pocketsphinx.dir/util/mmio.c.o\u001b[0m\n",
            "[ 72%] \u001b[32mBuilding C object src/CMakeFiles/pocketsphinx.dir/util/hash_table.c.o\u001b[0m\n",
            "[ 72%] \u001b[32mBuilding C object src/CMakeFiles/pocketsphinx.dir/util/err.c.o\u001b[0m\n",
            "[ 72%] \u001b[32mBuilding C object src/CMakeFiles/pocketsphinx.dir/util/ckd_alloc.c.o\u001b[0m\n",
            "[ 75%] \u001b[32mBuilding C object src/CMakeFiles/pocketsphinx.dir/util/slapack_lite.c.o\u001b[0m\n",
            "[ 75%] \u001b[32mBuilding C object src/CMakeFiles/pocketsphinx.dir/util/matrix.c.o\u001b[0m\n",
            "[ 77%] \u001b[32mBuilding C object src/CMakeFiles/pocketsphinx.dir/util/bio.c.o\u001b[0m\n",
            "[ 77%] \u001b[32mBuilding C object src/CMakeFiles/pocketsphinx.dir/util/heap.c.o\u001b[0m\n",
            "[ 77%] \u001b[32mBuilding C object src/CMakeFiles/pocketsphinx.dir/util/priority_queue.c.o\u001b[0m\n",
            "[ 79%] \u001b[32mBuilding C object src/CMakeFiles/pocketsphinx.dir/util/bitvec.c.o\u001b[0m\n",
            "[ 79%] \u001b[32mBuilding C object src/CMakeFiles/pocketsphinx.dir/util/profile.c.o\u001b[0m\n",
            "[ 79%] \u001b[32mBuilding C object src/CMakeFiles/pocketsphinx.dir/util/errno.c.o\u001b[0m\n",
            "[ 81%] \u001b[32mBuilding C object src/CMakeFiles/pocketsphinx.dir/util/logmath.c.o\u001b[0m\n",
            "[ 81%] \u001b[32mBuilding C object src/CMakeFiles/pocketsphinx.dir/util/glist.c.o\u001b[0m\n",
            "[ 84%] \u001b[32mBuilding C object src/CMakeFiles/pocketsphinx.dir/util/f2c_lite.c.o\u001b[0m\n",
            "[ 84%] \u001b[32mBuilding C object src/CMakeFiles/pocketsphinx.dir/util/listelem_alloc.c.o\u001b[0m\n",
            "[ 84%] \u001b[32mBuilding C object src/CMakeFiles/pocketsphinx.dir/util/pio.c.o\u001b[0m\n",
            "[ 86%] \u001b[32mBuilding C object src/CMakeFiles/pocketsphinx.dir/util/genrand.c.o\u001b[0m\n",
            "[ 86%] \u001b[32mBuilding C object src/CMakeFiles/pocketsphinx.dir/util/soundfiles.c.o\u001b[0m\n",
            "[ 88%] \u001b[32m\u001b[1mLinking C static library ../libpocketsphinx.a\u001b[0m\n",
            "[ 88%] Built target pocketsphinx\n",
            "\u001b[35m\u001b[1mScanning dependencies of target pocketsphinx_batch\u001b[0m\n",
            "[ 88%] \u001b[32mBuilding C object programs/CMakeFiles/pocketsphinx_batch.dir/pocketsphinx_batch.c.o\u001b[0m\n",
            "[ 88%] \u001b[32m\u001b[1mLinking C executable ../pocketsphinx_batch\u001b[0m\n",
            "[ 88%] Built target pocketsphinx_batch\n",
            "\u001b[35m\u001b[1mScanning dependencies of target pocketsphinx_mdef_convert\u001b[0m\n",
            "[ 90%] \u001b[32mBuilding C object programs/CMakeFiles/pocketsphinx_mdef_convert.dir/pocketsphinx_mdef_convert.c.o\u001b[0m\n",
            "[ 90%] \u001b[32m\u001b[1mLinking C executable ../pocketsphinx_mdef_convert\u001b[0m\n",
            "[ 90%] Built target pocketsphinx_mdef_convert\n",
            "\u001b[35m\u001b[1mScanning dependencies of target pocketsphinx_jsgf2fsg\u001b[0m\n",
            "[ 93%] \u001b[32mBuilding C object programs/CMakeFiles/pocketsphinx_jsgf2fsg.dir/pocketsphinx_jsgf2fsg.c.o\u001b[0m\n",
            "[ 93%] \u001b[32m\u001b[1mLinking C executable ../pocketsphinx_jsgf2fsg\u001b[0m\n",
            "[ 93%] Built target pocketsphinx_jsgf2fsg\n",
            "\u001b[35m\u001b[1mScanning dependencies of target pocketsphinx_lm_convert\u001b[0m\n",
            "[ 95%] \u001b[32mBuilding C object programs/CMakeFiles/pocketsphinx_lm_convert.dir/pocketsphinx_lm_convert.c.o\u001b[0m\n",
            "[ 95%] \u001b[32m\u001b[1mLinking C executable ../pocketsphinx_lm_convert\u001b[0m\n",
            "[ 95%] Built target pocketsphinx_lm_convert\n",
            "\u001b[35m\u001b[1mScanning dependencies of target pocketsphinx_lm_eval\u001b[0m\n",
            "[ 95%] \u001b[32mBuilding C object programs/CMakeFiles/pocketsphinx_lm_eval.dir/pocketsphinx_lm_eval.c.o\u001b[0m\n",
            "[ 97%] \u001b[32m\u001b[1mLinking C executable ../pocketsphinx_lm_eval\u001b[0m\n",
            "[ 97%] Built target pocketsphinx_lm_eval\n",
            "\u001b[35m\u001b[1mScanning dependencies of target pocketsphinx_pitch\u001b[0m\n",
            "[100%] \u001b[32mBuilding C object programs/CMakeFiles/pocketsphinx_pitch.dir/pocketsphinx_pitch.c.o\u001b[0m\n",
            "[100%] \u001b[32m\u001b[1mLinking C executable ../pocketsphinx_pitch\u001b[0m\n",
            "[100%] Built target pocketsphinx_pitch\n",
            "\u001b[35m\u001b[1mScanning dependencies of target pocketsphinx_main\u001b[0m\n",
            "[100%] \u001b[32mBuilding C object programs/CMakeFiles/pocketsphinx_main.dir/pocketsphinx_main.c.o\u001b[0m\n",
            "[100%] \u001b[32m\u001b[1mLinking C executable ../pocketsphinx\u001b[0m\n",
            "[100%] Built target pocketsphinx_main\n",
            "\u001b[36mInstall the project...\u001b[0m\n",
            "-- Install configuration: \"\"\n",
            "-- Installing: /usr/local/share/pocketsphinx/model/en-us\n",
            "-- Installing: /usr/local/share/pocketsphinx/model/en-us/en-us\n",
            "-- Installing: /usr/local/share/pocketsphinx/model/en-us/en-us/transition_matrices\n",
            "-- Installing: /usr/local/share/pocketsphinx/model/en-us/en-us/means\n",
            "-- Installing: /usr/local/share/pocketsphinx/model/en-us/en-us/feat.params\n",
            "-- Installing: /usr/local/share/pocketsphinx/model/en-us/en-us/variances\n",
            "-- Installing: /usr/local/share/pocketsphinx/model/en-us/en-us/sendump\n",
            "-- Installing: /usr/local/share/pocketsphinx/model/en-us/en-us/mdef\n",
            "-- Installing: /usr/local/share/pocketsphinx/model/en-us/en-us/README\n",
            "-- Installing: /usr/local/share/pocketsphinx/model/en-us/en-us/noisedict\n",
            "-- Installing: /usr/local/share/pocketsphinx/model/en-us/cmudict-en-us.dict\n",
            "-- Installing: /usr/local/share/pocketsphinx/model/en-us/en-us-phone.lm.bin\n",
            "-- Installing: /usr/local/share/pocketsphinx/model/en-us/en-us.lm.bin\n",
            "-- Installing: /usr/local/share/man/man1/pocketsphinx.1\n",
            "-- Installing: /usr/local/share/man/man1/pocketsphinx_batch.1\n",
            "-- Installing: /usr/local/share/man/man1/pocketsphinx_mdef_convert.1\n",
            "-- Installing: /usr/local/share/man/man1/sphinx_lm_convert.1\n",
            "-- Installing: /usr/local/share/man/man1/sphinx_lm_eval.1\n",
            "-- Installing: /usr/local/share/man/man1/sphinx_lm_sort.1\n",
            "-- Installing: /usr/local/share/man/man1/sphinx_pitch.1\n",
            "-- Installing: /usr/local/bin/pocketsphinx\n",
            "-- Installing: /usr/local/bin/pocketsphinx_batch\n",
            "-- Installing: /usr/local/bin/pocketsphinx_mdef_convert\n",
            "-- Installing: /usr/local/bin/pocketsphinx_jsgf2fsg\n",
            "-- Installing: /usr/local/bin/pocketsphinx_lm_convert\n",
            "-- Installing: /usr/local/bin/pocketsphinx_lm_eval\n",
            "-- Installing: /usr/local/bin/pocketsphinx_pitch\n",
            "-- Installing: /usr/local/lib/libpocketsphinx.a\n",
            "-- Installing: /usr/local/include/include\n",
            "-- Installing: /usr/local/include/include/pocketsphinx.h\n",
            "-- Installing: /usr/local/include/include/pocketsphinx\n",
            "-- Installing: /usr/local/include/include/pocketsphinx/endpointer.h\n",
            "-- Installing: /usr/local/include/include/pocketsphinx/search.h\n",
            "-- Installing: /usr/local/include/include/pocketsphinx/prim_type.h\n",
            "-- Installing: /usr/local/include/include/pocketsphinx/model.h\n",
            "-- Installing: /usr/local/include/include/pocketsphinx/export.h\n",
            "-- Installing: /usr/local/include/include/pocketsphinx/lattice.h\n",
            "-- Installing: /usr/local/include/include/pocketsphinx/err.h\n",
            "-- Installing: /usr/local/include/include/pocketsphinx/logmath.h\n",
            "-- Installing: /usr/local/include/include/pocketsphinx/mllr.h\n",
            "-- Installing: /usr/local/include/include/pocketsphinx/alignment.h\n",
            "-- Installing: /usr/local/include/include/pocketsphinx/vad.h\n",
            "-- Up-to-date: /usr/local/include/include\n",
            "-- Up-to-date: /usr/local/include/include/pocketsphinx\n",
            "-- Installing: /usr/local/include/include/pocketsphinx/sphinx_config.h\n",
            "-- Installing: /usr/local/lib/pkgconfig/pocketsphinx.pc\n",
            "/content\n",
            "Cloning into 'one-shot-talking-face'...\n",
            "remote: Enumerating objects: 315, done.\u001b[K\n",
            "remote: Total 315 (delta 0), reused 0 (delta 0), pack-reused 315\u001b[K\n",
            "Receiving objects: 100% (315/315), 13.25 MiB | 21.84 MiB/s, done.\n",
            "Resolving deltas: 100% (66/66), done.\n",
            "Filtering content: 100% (27/27), 1.22 GiB | 85.37 MiB/s, done.\n",
            "/content/one-shot-talking-face\n",
            "Looking in indexes: https://pypi.org/simple, https://us-python.pkg.dev/colab-wheels/public/simple/\n",
            "Requirement already satisfied: scikit-image in /usr/local/lib/python3.9/dist-packages (from -r /content/one-shot-talking-face/requirements.txt (line 1)) (0.19.3)\n",
            "Collecting python_speech_features\n",
            "  Downloading python_speech_features-0.6.tar.gz (5.6 kB)\n",
            "  Preparing metadata (setup.py) ... \u001b[?25l\u001b[?25hdone\n",
            "Collecting pyworld\n",
            "  Downloading pyworld-0.3.2.tar.gz (214 kB)\n",
            "\u001b[2K     \u001b[90m━━━━━━━━━━━━━━━━━━━━━━━━━━━━━━━━━━━━━━━\u001b[0m \u001b[32m214.4/214.4 KB\u001b[0m \u001b[31m9.7 MB/s\u001b[0m eta \u001b[36m0:00:00\u001b[0m\n",
            "\u001b[?25h  Installing build dependencies ... \u001b[?25l\u001b[?25hdone\n",
            "  Getting requirements to build wheel ... \u001b[?25l\u001b[?25hdone\n",
            "  Preparing metadata (pyproject.toml) ... \u001b[?25l\u001b[?25hdone\n",
            "Requirement already satisfied: pyyaml in /usr/local/lib/python3.9/dist-packages (from -r /content/one-shot-talking-face/requirements.txt (line 4)) (6.0)\n",
            "Requirement already satisfied: imageio in /usr/local/lib/python3.9/dist-packages (from -r /content/one-shot-talking-face/requirements.txt (line 5)) (2.9.0)\n",
            "Requirement already satisfied: scipy in /usr/local/lib/python3.9/dist-packages (from -r /content/one-shot-talking-face/requirements.txt (line 6)) (1.10.1)\n",
            "Requirement already satisfied: opencv-python in /usr/local/lib/python3.9/dist-packages (from -r /content/one-shot-talking-face/requirements.txt (line 8)) (4.6.0.66)\n",
            "Requirement already satisfied: packaging>=20.0 in /usr/local/lib/python3.9/dist-packages (from scikit-image->-r /content/one-shot-talking-face/requirements.txt (line 1)) (23.0)\n",
            "Requirement already satisfied: PyWavelets>=1.1.1 in /usr/local/lib/python3.9/dist-packages (from scikit-image->-r /content/one-shot-talking-face/requirements.txt (line 1)) (1.4.1)\n",
            "Requirement already satisfied: tifffile>=2019.7.26 in /usr/local/lib/python3.9/dist-packages (from scikit-image->-r /content/one-shot-talking-face/requirements.txt (line 1)) (2023.3.15)\n",
            "Requirement already satisfied: networkx>=2.2 in /usr/local/lib/python3.9/dist-packages (from scikit-image->-r /content/one-shot-talking-face/requirements.txt (line 1)) (3.0)\n",
            "Requirement already satisfied: pillow!=7.1.0,!=7.1.1,!=8.3.0,>=6.1.0 in /usr/local/lib/python3.9/dist-packages (from scikit-image->-r /content/one-shot-talking-face/requirements.txt (line 1)) (8.4.0)\n",
            "Requirement already satisfied: numpy>=1.17.0 in /usr/local/lib/python3.9/dist-packages (from scikit-image->-r /content/one-shot-talking-face/requirements.txt (line 1)) (1.22.4)\n",
            "Requirement already satisfied: cython in /usr/local/lib/python3.9/dist-packages (from pyworld->-r /content/one-shot-talking-face/requirements.txt (line 3)) (0.29.33)\n",
            "Building wheels for collected packages: python_speech_features, pyworld\n",
            "  Building wheel for python_speech_features (setup.py) ... \u001b[?25l\u001b[?25hdone\n",
            "  Created wheel for python_speech_features: filename=python_speech_features-0.6-py3-none-any.whl size=5886 sha256=767b3c59050218987eac3e8afc41547870b93c858d634bd77f73f9636ee86dfe\n",
            "  Stored in directory: /root/.cache/pip/wheels/09/a1/04/08e2688d2562d8f9ff89e77c6ddfbf7268e07dae1a6f22455e\n",
            "  Building wheel for pyworld (pyproject.toml) ... \u001b[?25l\u001b[?25hdone\n",
            "  Created wheel for pyworld: filename=pyworld-0.3.2-cp39-cp39-linux_x86_64.whl size=895518 sha256=a3763a5114d36fb406ce0a24ff5c7edf736c51396f672905e45fd5fb45ada809\n",
            "  Stored in directory: /root/.cache/pip/wheels/c5/91/01/58aa68f1f055ce534049e668292b710500100da0262079b8f5\n",
            "Successfully built python_speech_features pyworld\n",
            "Installing collected packages: python_speech_features, pyworld\n",
            "Successfully installed python_speech_features-0.6 pyworld-0.3.2\n",
            "The following additional packages will be installed:\n",
            "  libgail-common libgail18 libgtk2.0-bin libgtk2.0-common libjq1 libonig5\n",
            "Suggested packages:\n",
            "  gvfs\n",
            "The following NEW packages will be installed:\n",
            "  jq libgail-common libgail18 libgtk2.0-0 libgtk2.0-bin libgtk2.0-common\n",
            "  libjq1 libonig5\n",
            "0 upgraded, 8 newly installed, 0 to remove and 23 not upgraded.\n",
            "Need to get 2,367 kB of archives.\n",
            "After this operation, 8,038 kB of additional disk space will be used.\n",
            "Selecting previously unselected package libonig5:amd64.\n",
            "(Reading database ... 128276 files and directories currently installed.)\n",
            "Preparing to unpack .../0-libonig5_6.9.4-1_amd64.deb ...\n",
            "Unpacking libonig5:amd64 (6.9.4-1) ...\n",
            "Selecting previously unselected package libjq1:amd64.\n",
            "Preparing to unpack .../1-libjq1_1.6-1ubuntu0.20.04.1_amd64.deb ...\n",
            "Unpacking libjq1:amd64 (1.6-1ubuntu0.20.04.1) ...\n",
            "Selecting previously unselected package jq.\n",
            "Preparing to unpack .../2-jq_1.6-1ubuntu0.20.04.1_amd64.deb ...\n",
            "Unpacking jq (1.6-1ubuntu0.20.04.1) ...\n",
            "Selecting previously unselected package libgtk2.0-common.\n",
            "Preparing to unpack .../3-libgtk2.0-common_2.24.32-4ubuntu4_all.deb ...\n",
            "Unpacking libgtk2.0-common (2.24.32-4ubuntu4) ...\n",
            "Selecting previously unselected package libgtk2.0-0:amd64.\n",
            "Preparing to unpack .../4-libgtk2.0-0_2.24.32-4ubuntu4_amd64.deb ...\n",
            "Unpacking libgtk2.0-0:amd64 (2.24.32-4ubuntu4) ...\n",
            "Selecting previously unselected package libgail18:amd64.\n",
            "Preparing to unpack .../5-libgail18_2.24.32-4ubuntu4_amd64.deb ...\n",
            "Unpacking libgail18:amd64 (2.24.32-4ubuntu4) ...\n",
            "Selecting previously unselected package libgail-common:amd64.\n",
            "Preparing to unpack .../6-libgail-common_2.24.32-4ubuntu4_amd64.deb ...\n",
            "Unpacking libgail-common:amd64 (2.24.32-4ubuntu4) ...\n",
            "Selecting previously unselected package libgtk2.0-bin.\n",
            "Preparing to unpack .../7-libgtk2.0-bin_2.24.32-4ubuntu4_amd64.deb ...\n",
            "Unpacking libgtk2.0-bin (2.24.32-4ubuntu4) ...\n",
            "Setting up libgtk2.0-common (2.24.32-4ubuntu4) ...\n",
            "Setting up libonig5:amd64 (6.9.4-1) ...\n",
            "Setting up libjq1:amd64 (1.6-1ubuntu0.20.04.1) ...\n",
            "Setting up libgtk2.0-0:amd64 (2.24.32-4ubuntu4) ...\n",
            "Setting up libgail18:amd64 (2.24.32-4ubuntu4) ...\n",
            "Setting up libgtk2.0-bin (2.24.32-4ubuntu4) ...\n",
            "Setting up jq (1.6-1ubuntu0.20.04.1) ...\n",
            "Setting up libgail-common:amd64 (2.24.32-4ubuntu4) ...\n",
            "Processing triggers for man-db (2.9.1-1) ...\n",
            "Processing triggers for libc-bin (2.31-0ubuntu9.9) ...\n",
            "\u001b[2K     \u001b[90m━━━━━━━━━━━━━━━━━━━━━━━━━━━━━━━━━━━━━━━━\u001b[0m \u001b[32m26.9/26.9 MB\u001b[0m \u001b[31m53.2 MB/s\u001b[0m eta \u001b[36m0:00:00\u001b[0m\n",
            "\u001b[2K     \u001b[90m━━━━━━━━━━━━━━━━━━━━━━━━━━━━━━━━━━━━━━━━\u001b[0m \u001b[32m15.8/15.8 MB\u001b[0m \u001b[31m18.9 MB/s\u001b[0m eta \u001b[36m0:00:00\u001b[0m\n",
            "\u001b[2K     \u001b[90m━━━━━━━━━━━━━━━━━━━━━━━━━━━━━━━━━━━━━━━━\u001b[0m \u001b[32m45.7/45.7 KB\u001b[0m \u001b[31m5.6 MB/s\u001b[0m eta \u001b[36m0:00:00\u001b[0m\n",
            "\u001b[2K     \u001b[90m━━━━━━━━━━━━━━━━━━━━━━━━━━━━━━━━━━━━━━━\u001b[0m \u001b[32m199.2/199.2 KB\u001b[0m \u001b[31m1.9 MB/s\u001b[0m eta \u001b[36m0:00:00\u001b[0m\n",
            "\u001b[?25h  Preparing metadata (setup.py) ... \u001b[?25l\u001b[?25hdone\n",
            "\u001b[2K     \u001b[90m━━━━━━━━━━━━━━━━━━━━━━━━━━━━━━━━━━━━━━━━\u001b[0m \u001b[32m57.8/57.8 KB\u001b[0m \u001b[31m6.4 MB/s\u001b[0m eta \u001b[36m0:00:00\u001b[0m\n",
            "\u001b[2K     \u001b[90m━━━━━━━━━━━━━━━━━━━━━━━━━━━━━━━━━━━━━━━━\u001b[0m \u001b[32m56.4/56.4 KB\u001b[0m \u001b[31m7.7 MB/s\u001b[0m eta \u001b[36m0:00:00\u001b[0m\n",
            "\u001b[2K     \u001b[90m━━━━━━━━━━━━━━━━━━━━━━━━━━━━━━━━━━━━━━\u001b[0m \u001b[32m106.5/106.5 KB\u001b[0m \u001b[31m13.3 MB/s\u001b[0m eta \u001b[36m0:00:00\u001b[0m\n",
            "\u001b[2K     \u001b[90m━━━━━━━━━━━━━━━━━━━━━━━━━━━━━━━━━━━━━━━━\u001b[0m \u001b[32m84.5/84.5 KB\u001b[0m \u001b[31m11.5 MB/s\u001b[0m eta \u001b[36m0:00:00\u001b[0m\n",
            "\u001b[2K     \u001b[90m━━━━━━━━━━━━━━━━━━━━━━━━━━━━━━━━━━━━━━━━\u001b[0m \u001b[32m50.5/50.5 KB\u001b[0m \u001b[31m5.8 MB/s\u001b[0m eta \u001b[36m0:00:00\u001b[0m\n",
            "\u001b[2K     \u001b[90m━━━━━━━━━━━━━━━━━━━━━━━━━━━━━━━━━━━━━━━━\u001b[0m \u001b[32m71.5/71.5 KB\u001b[0m \u001b[31m9.1 MB/s\u001b[0m eta \u001b[36m0:00:00\u001b[0m\n",
            "\u001b[2K     \u001b[90m━━━━━━━━━━━━━━━━━━━━━━━━━━━━━━━━━━━━━━\u001b[0m \u001b[32m140.9/140.9 KB\u001b[0m \u001b[31m19.8 MB/s\u001b[0m eta \u001b[36m0:00:00\u001b[0m\n",
            "\u001b[2K     \u001b[90m━━━━━━━━━━━━━━━━━━━━━━━━━━━━━━━━━━━━━━━━\u001b[0m \u001b[32m66.9/66.9 KB\u001b[0m \u001b[31m8.0 MB/s\u001b[0m eta \u001b[36m0:00:00\u001b[0m\n",
            "\u001b[2K     \u001b[90m━━━━━━━━━━━━━━━━━━━━━━━━━━━━━━━━━━━━━━━━\u001b[0m \u001b[32m69.6/69.6 KB\u001b[0m \u001b[31m8.8 MB/s\u001b[0m eta \u001b[36m0:00:00\u001b[0m\n",
            "\u001b[2K     \u001b[90m━━━━━━━━━━━━━━━━━━━━━━━━━━━━━━━━━━━━━━━━\u001b[0m \u001b[32m58.3/58.3 KB\u001b[0m \u001b[31m6.9 MB/s\u001b[0m eta \u001b[36m0:00:00\u001b[0m\n",
            "\u001b[2K     \u001b[90m━━━━━━━━━━━━━━━━━━━━━━━━━━━━━━━━━━━━━━━━\u001b[0m \u001b[32m80.6/80.6 KB\u001b[0m \u001b[31m9.8 MB/s\u001b[0m eta \u001b[36m0:00:00\u001b[0m\n",
            "\u001b[?25h  Building wheel for ffmpy (setup.py) ... \u001b[?25l\u001b[?25hdone\n"
          ]
        }
      ]
    },
    {
      "cell_type": "code",
      "execution_count": 6,
      "metadata": {
        "colab": {
          "base_uri": "https://localhost:8080/"
        },
        "id": "Lvtk-dAm0lmg",
        "outputId": "19dce252-4220-44b8-a0ce-806dbb0f9f9d"
      },
      "outputs": [
        {
          "output_type": "stream",
          "name": "stdout",
          "text": [
            "Looking in indexes: https://pypi.org/simple, https://us-python.pkg.dev/colab-wheels/public/simple/\n",
            "Collecting gTTS\n",
            "  Downloading gTTS-2.3.1-py3-none-any.whl (28 kB)\n",
            "Requirement already satisfied: click<8.2,>=7.1 in /usr/local/lib/python3.9/dist-packages (from gTTS) (8.1.3)\n",
            "Requirement already satisfied: requests<3,>=2.27 in /usr/local/lib/python3.9/dist-packages (from gTTS) (2.27.1)\n",
            "Requirement already satisfied: urllib3<1.27,>=1.21.1 in /usr/local/lib/python3.9/dist-packages (from requests<3,>=2.27->gTTS) (1.26.15)\n",
            "Requirement already satisfied: charset-normalizer~=2.0.0 in /usr/local/lib/python3.9/dist-packages (from requests<3,>=2.27->gTTS) (2.0.12)\n",
            "Requirement already satisfied: certifi>=2017.4.17 in /usr/local/lib/python3.9/dist-packages (from requests<3,>=2.27->gTTS) (2022.12.7)\n",
            "Requirement already satisfied: idna<4,>=2.5 in /usr/local/lib/python3.9/dist-packages (from requests<3,>=2.27->gTTS) (3.4)\n",
            "Installing collected packages: gTTS\n",
            "Successfully installed gTTS-2.3.1\n"
          ]
        }
      ],
      "source": [
        "pip install gTTS"
      ]
    },
    {
      "cell_type": "code",
      "execution_count": 7,
      "metadata": {
        "id": "mMpUlc1I2dif"
      },
      "outputs": [],
      "source": [
        "from gtts import gTTS"
      ]
    },
    {
      "cell_type": "code",
      "execution_count": 8,
      "metadata": {
        "id": "nDIQj7A9eHb2"
      },
      "outputs": [],
      "source": [
        "#tts = gTTS('Hello there, nice to meet you!', lang='en', tld='us')\n",
        "#tts.save('1.wav')\n",
        "#sound_file = '1.wav'\n",
        "#Audio(sound_file, autoplay=True)"
      ]
    },
    {
      "cell_type": "code",
      "execution_count": 9,
      "metadata": {
        "id": "ILFOYNnTcYe8"
      },
      "outputs": [],
      "source": [
        "import gradio as gr"
      ]
    },
    {
      "cell_type": "code",
      "execution_count": 10,
      "metadata": {
        "colab": {
          "base_uri": "https://localhost:8080/",
          "height": 743
        },
        "id": "JtTvvQQPcOZZ",
        "outputId": "fb73756f-47da-43ed-91ed-d4f4687c44bb"
      },
      "outputs": [
        {
          "output_type": "stream",
          "name": "stderr",
          "text": [
            "/usr/local/lib/python3.9/dist-packages/gradio/inputs.py:319: UserWarning: Usage of gradio.inputs is deprecated, and will not be supported in the future, please import your components from gradio.components\n",
            "  warnings.warn(\n",
            "/usr/local/lib/python3.9/dist-packages/gradio/deprecation.py:40: UserWarning: `optional` parameter is deprecated, and it has no effect\n",
            "  warnings.warn(value)\n",
            "/usr/local/lib/python3.9/dist-packages/gradio/blocks.py:491: UserWarning: Theme should be a class loaded from gradio.themes\n",
            "  warnings.warn(\"Theme should be a class loaded from gradio.themes\")\n"
          ]
        },
        {
          "output_type": "stream",
          "name": "stdout",
          "text": [
            "Colab notebook detected. To show errors in colab notebook, set debug=True in launch()\n",
            "Note: opening Chrome Inspector may crash demo inside Colab notebooks.\n",
            "\n",
            "To create a public link, set `share=True` in `launch()`.\n"
          ]
        },
        {
          "output_type": "display_data",
          "data": {
            "text/plain": [
              "<IPython.core.display.Javascript object>"
            ],
            "application/javascript": [
              "(async (port, path, width, height, cache, element) => {\n",
              "                        if (!google.colab.kernel.accessAllowed && !cache) {\n",
              "                            return;\n",
              "                        }\n",
              "                        element.appendChild(document.createTextNode(''));\n",
              "                        const url = await google.colab.kernel.proxyPort(port, {cache});\n",
              "\n",
              "                        const external_link = document.createElement('div');\n",
              "                        external_link.innerHTML = `\n",
              "                            <div style=\"font-family: monospace; margin-bottom: 0.5rem\">\n",
              "                                Running on <a href=${new URL(path, url).toString()} target=\"_blank\">\n",
              "                                    https://localhost:${port}${path}\n",
              "                                </a>\n",
              "                            </div>\n",
              "                        `;\n",
              "                        element.appendChild(external_link);\n",
              "\n",
              "                        const iframe = document.createElement('iframe');\n",
              "                        iframe.src = new URL(path, url).toString();\n",
              "                        iframe.height = height;\n",
              "                        iframe.allow = \"autoplay; camera; microphone; clipboard-read; clipboard-write;\"\n",
              "                        iframe.width = width;\n",
              "                        iframe.style.border = 0;\n",
              "                        element.appendChild(iframe);\n",
              "                    })(7860, \"/\", \"100%\", 500, false, window.element)"
            ]
          },
          "metadata": {}
        },
        {
          "output_type": "execute_result",
          "data": {
            "text/plain": []
          },
          "metadata": {},
          "execution_count": 10
        }
      ],
      "source": [
        "import openai\n",
        "import os, subprocess, torchaudio\n",
        "from PIL import Image\n",
        "\n",
        "mes1 = [\n",
        "    {\"role\": \"system\", \"content\": \"You are a TOEFL examiner. Help me improve my oral Englsih and give me feedback. Your response must be less than 30 words.\"}\n",
        "]\n",
        "\n",
        "mes2 = [\n",
        "    {\"role\": \"system\", \"content\": \"You are a mental health therapist. Your name is Tina. Your response must be less than 30 words.\"}\n",
        "]\n",
        "\n",
        "mes3 = [\n",
        "    {\"role\": \"system\", \"content\": \"You are my personal assistant. Your name is Alice. Your response must be less than 30 words.\"}\n",
        "]\n",
        "\n",
        "res = []\n",
        "\n",
        "question = []\n",
        "\n",
        "def transcribe(apikey, image_in, audio, choice1, choice2):\n",
        "\n",
        "    openai.api_key = apikey\n",
        "    \n",
        "    # time.sleep(3)\n",
        "    # load audio and pad/trim it to fit 30 seconds\n",
        "    audio = whisper.load_audio(audio)\n",
        "    audio = whisper.pad_or_trim(audio)\n",
        "\n",
        "    # make log-Mel spectrogram and move to the same device as the model\n",
        "    mel = whisper.log_mel_spectrogram(audio).to(model.device)\n",
        "\n",
        "    # detect the spoken language\n",
        "    _, probs = model.detect_language(mel)\n",
        "    print(f\"Detected language: {max(probs, key=probs.get)}\")\n",
        "\n",
        "    # decode the audio\n",
        "    options = whisper.DecodingOptions()\n",
        "    result = whisper.decode(model, mel, options)\n",
        "    res.append(result.text)\n",
        "\n",
        "    if choice1 == \"TOEFL\":\n",
        "      messages = mes1\n",
        "    elif choice1 == \"Therapist\":\n",
        "      messages = mes2\n",
        "    elif choice1 == \"Alice\":\n",
        "      messages = mes3\n",
        "\n",
        "    # chatgpt\n",
        "    n = len(res)\n",
        "    content = res[n-1]\n",
        "    messages.append({\"role\": \"user\", \"content\": content})\n",
        "\n",
        "    completion = openai.ChatCompletion.create(\n",
        "      model = \"gpt-3.5-turbo\",\n",
        "      messages = messages\n",
        "    )\n",
        "\n",
        "    chat_response = completion.choices[0].message.content\n",
        "\n",
        "    messages.append({\"role\": \"assistant\", \"content\": chat_response})   \n",
        "\n",
        "    if choice2 == \"Chinese\":\n",
        "      tts = gTTS(chat_response, lang='zh-CN')\n",
        "    elif choice2 == \"English\":\n",
        "      tts = gTTS(chat_response, lang='en', tld='us')\n",
        "\n",
        "    tts.save('1.wav')\n",
        "    audio_in = '1.wav'\n",
        "\n",
        "    waveform, sample_rate = torchaudio.load(audio_in)\n",
        "    torchaudio.save(\"/content/audio.wav\", waveform, sample_rate, encoding=\"PCM_S\", bits_per_sample=16)\n",
        "    image = Image.open(image_in)\n",
        "    image.save(\"/content/image.png\")\n",
        "\n",
        "    pocketsphinx_run = subprocess.run(['pocketsphinx', '-phone_align', 'yes', 'single', '/content/audio.wav'], check=True, capture_output=True)\n",
        "    jq_run = subprocess.run(['jq', '[.w[]|{word: (.t | ascii_upcase | sub(\"<S>\"; \"sil\") | sub(\"<SIL>\"; \"sil\") | sub(\"\\\\\\(2\\\\\\)\"; \"\") | sub(\"\\\\\\(3\\\\\\)\"; \"\") | sub(\"\\\\\\(4\\\\\\)\"; \"\") | sub(\"\\\\\\[SPEECH\\\\\\]\"; \"SIL\") | sub(\"\\\\\\[NOISE\\\\\\]\"; \"SIL\")), phones: [.w[]|{ph: .t | sub(\"\\\\\\+SPN\\\\\\+\"; \"SIL\") | sub(\"\\\\\\+NSN\\\\\\+\"; \"SIL\"), bg: (.b*100)|floor, ed: (.b*100+.d*100)|floor}]}]'], input=pocketsphinx_run.stdout, capture_output=True)\n",
        "    with open(\"/content/test.json\", \"w\") as f:\n",
        "        f.write(jq_run.stdout.decode('utf-8').strip())\n",
        "\n",
        "    os.system(f\"cd /content/one-shot-talking-face && python3 -B test_script.py --img_path /content/image.png --audio_path /content/audio.wav --phoneme_path /content/test.json --save_dir /content/train\")\n",
        "    \n",
        "    question.append(chat_response)\n",
        "\n",
        "    return [result.text, chat_response, \"/content/train/image_audio.mp4\", res, question]\n",
        "\n",
        "output_1 = gr.Textbox(label=\"Speech to Text\")\n",
        "output_2 = gr.Textbox(label=\"ChatGPT Output\")\n",
        "output_3 = gr.Video(label=\"Vedio\")\n",
        "\n",
        "gr.Interface(\n",
        "    title = '🥳💬💕 - TalktoAI，随时随地，谈天说地！', \n",
        "    theme=\"huggingface\",\n",
        "    description = \"🤖 - 让有人文关怀的AI造福每一个人！AI向善，文明璀璨！Enable the future！\",\n",
        "    fn=transcribe, \n",
        "    inputs=[\n",
        "        gr.Textbox(lines=1, label = \"请填写您的OpenAI_API_key\"),\n",
        "        gr.Image(label = \"请上传图片\", type=\"filepath\"),\n",
        "        gr.inputs.Audio(source=\"microphone\", type=\"filepath\"),\n",
        "        gr.Radio([\"TOEFL\", \"Therapist\", \"Alice\"], label=\"TOEFL Examiner, Therapist Tina, or Assistant Alice?\"),\n",
        "        gr.Radio([\"Chinese\", \"English\"], label=\"Chinese or English?\")\n",
        "    ],\n",
        "    outputs=[\n",
        "      output_1, output_2, output_3\n",
        "    ],\n",
        "    ).launch()"
      ]
    },
    {
      "cell_type": "code",
      "execution_count": 11,
      "metadata": {
        "colab": {
          "base_uri": "https://localhost:8080/"
        },
        "id": "M3J81kjOsRjJ",
        "outputId": "4cb649ce-2165-4164-9c51-ae9202cad0d1"
      },
      "outputs": [
        {
          "output_type": "stream",
          "name": "stdout",
          "text": [
            "Your Response: \n",
            "\n",
            "\n",
            "-------------------------TalktoAI，随时随地，谈天说地！-------------------------\n",
            "\n",
            "Question: \n"
          ]
        }
      ],
      "source": [
        "res1 = ''\n",
        "for i in range(0, len(res)):\n",
        "  res1 = res1 + \" \\n\\n \" + res[i]\n",
        "question1 = ''\n",
        "for i in range(0, len(question)):\n",
        "  question1 = question1 + \" \\n\\n \" + question[i]\n",
        "print(f'Your Response: {res1}')\n",
        "print('')\n",
        "print('')\n",
        "print('-------------------------TalktoAI，随时随地，谈天说地！-------------------------')\n",
        "print('')\n",
        "print(f'Question: {question1}')"
      ]
    }
  ],
  "metadata": {
    "accelerator": "GPU",
    "colab": {
      "provenance": [],
      "include_colab_link": true
    },
    "gpuClass": "standard",
    "kernelspec": {
      "display_name": "Python 3 (ipykernel)",
      "language": "python",
      "name": "python3"
    },
    "language_info": {
      "codemirror_mode": {
        "name": "ipython",
        "version": 3
      },
      "file_extension": ".py",
      "mimetype": "text/x-python",
      "name": "python",
      "nbconvert_exporter": "python",
      "pygments_lexer": "ipython3",
      "version": "3.9.9"
    }
  },
  "nbformat": 4,
  "nbformat_minor": 0
}